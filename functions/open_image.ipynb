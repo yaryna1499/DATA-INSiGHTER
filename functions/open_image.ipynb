{
 "cells": [
  {
   "cell_type": "code",
   "execution_count": 46,
   "metadata": {},
   "outputs": [],
   "source": [
    "url = \"https://www.floramax.com.ua/image/cache/catalog/product/11042/tsvetok-vasilek-72168-1-660x660.jpg\""
   ]
  },
  {
   "cell_type": "code",
   "execution_count": 53,
   "metadata": {},
   "outputs": [
    {
     "name": "stderr",
     "output_type": "stream",
     "text": [
      "/snap/core20/current/lib/x86_64-linux-gnu/libstdc++.so.6: version `GLIBCXX_3.4.29' not found (required by /lib/x86_64-linux-gnu/libproxy.so.1)\n",
      "Failed to load module: /home/yaryna/snap/code/common/.cache/gio-modules/libgiolibproxy.so\n",
      "eog: symbol lookup error: /snap/core20/current/lib/x86_64-linux-gnu/libpthread.so.0: undefined symbol: __libc_pthread_init, version GLIBC_PRIVATE\n"
     ]
    }
   ],
   "source": [
    "import requests\n",
    "from PIL import Image\n",
    "from io import BytesIO\n",
    "\n",
    "def open_image_from_url(image_url):\n",
    "    try:\n",
    "        # Завантажуємо зображення з URL\n",
    "        response = requests.get(image_url)\n",
    "        response.raise_for_status()\n",
    "\n",
    "        # Перетворюємо отриманий відповідь у зображення\n",
    "        image = Image.open(BytesIO(response.content))\n",
    "\n",
    "        return image\n",
    "    except requests.exceptions.HTTPError as e:\n",
    "        print(f\"Помилка при завантаженні зображення: {e}\")\n",
    "    except Exception as e:\n",
    "        print(f\"Сталася помилка: {e}\")\n",
    "        return None\n",
    "\n",
    "# Посилання на зображення\n",
    "image_url = url\n",
    "\n",
    "# Відкриваємо зображення\n",
    "image = open_image_from_url(image_url)\n",
    "\n",
    "if image:\n",
    "    # Відображаємо зображення\n",
    "    image.show()\n",
    "else:\n",
    "    print(\"Не вдалося завантажити зображення.\")\n",
    "\n"
   ]
  }
 ],
 "metadata": {
  "kernelspec": {
   "display_name": "science_env",
   "language": "python",
   "name": "python3"
  },
  "language_info": {
   "codemirror_mode": {
    "name": "ipython",
    "version": 3
   },
   "file_extension": ".py",
   "mimetype": "text/x-python",
   "name": "python",
   "nbconvert_exporter": "python",
   "pygments_lexer": "ipython3",
   "version": "3.10.8"
  },
  "orig_nbformat": 4
 },
 "nbformat": 4,
 "nbformat_minor": 2
}
