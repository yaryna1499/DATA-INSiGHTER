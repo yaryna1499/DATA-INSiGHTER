{
 "cells": [
  {
   "cell_type": "code",
   "execution_count": 1,
   "metadata": {},
   "outputs": [],
   "source": [
    "import json"
   ]
  },
  {
   "cell_type": "code",
   "execution_count": 3,
   "metadata": {},
   "outputs": [
    {
     "name": "stdout",
     "output_type": "stream",
     "text": [
      "Рекомендовані технології для вивчення:\n",
      "- dplyr\n",
      "- ggplot2\n",
      "- tidyr\n",
      "- caret\n"
     ]
    }
   ],
   "source": [
    "\n",
    "\n",
    "# Завантажуємо дані з JSON файлу\n",
    "with open('tech_stacks.json', 'r') as file:\n",
    "    tech_stacks = json.load(file)\n",
    "\n",
    "# Користувач вводить спеціалізацію та технології\n",
    "user_specialization = input(\"Введіть свою спеціалізацію: \")\n",
    "user_known_technologies = input(\"Введіть відомі вам технології (розділені комами): \").split(',')\n",
    "\n",
    "# Пошук стеку з найбільшою кількістю спільних технологій\n",
    "max_common_technologies = 0\n",
    "recommended_stack = None\n",
    "\n",
    "for stack_name, stack_technologies in tech_stacks[user_specialization].items():\n",
    "    common_technologies = set(user_known_technologies) & set(stack_technologies)\n",
    "    num_common_technologies = len(common_technologies)\n",
    "    \n",
    "    if num_common_technologies > max_common_technologies:\n",
    "        max_common_technologies = num_common_technologies\n",
    "        recommended_stack = stack_name\n",
    "\n",
    "# Виведення рекомендацій технологій, які ще не введені користувачем\n",
    "if recommended_stack:\n",
    "    recommended_technologies = set(tech_stacks[user_specialization][recommended_stack]) - set(user_known_technologies)\n",
    "    print(\"Рекомендовані технології для вивчення:\")\n",
    "    \n",
    "    for tech in recommended_technologies:\n",
    "        print(\"- \" + tech)\n",
    "else:\n",
    "    print(\"На жаль, не вдалося знайти підходящий стек для вас.\")\n"
   ]
  },
  {
   "cell_type": "code",
   "execution_count": null,
   "metadata": {},
   "outputs": [],
   "source": []
  }
 ],
 "metadata": {
  "kernelspec": {
   "display_name": "science_env",
   "language": "python",
   "name": "python3"
  },
  "language_info": {
   "codemirror_mode": {
    "name": "ipython",
    "version": 3
   },
   "file_extension": ".py",
   "mimetype": "text/x-python",
   "name": "python",
   "nbconvert_exporter": "python",
   "pygments_lexer": "ipython3",
   "version": "3.10.8"
  },
  "orig_nbformat": 4
 },
 "nbformat": 4,
 "nbformat_minor": 2
}
