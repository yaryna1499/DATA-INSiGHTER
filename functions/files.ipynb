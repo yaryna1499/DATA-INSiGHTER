{
 "cells": [
  {
   "cell_type": "code",
   "execution_count": 7,
   "metadata": {},
   "outputs": [],
   "source": [
    "import io\n",
    "import base64"
   ]
  },
  {
   "cell_type": "code",
   "execution_count": 62,
   "metadata": {},
   "outputs": [],
   "source": [
    "class Saver(io.BytesIO):\n",
    "    \"\"\"\n",
    "    Acts as default BytesIO with additional properties.\n",
    "    \"\"\"\n",
    "    def __init__(self, obj):\n",
    "        super().__init__(obj)\n",
    "        self.obj = obj\n",
    "        self._encoded_file = None\n",
    "\n",
    "\n",
    "    def _encode(self):\n",
    "        data = self.buffered_file.getvalue()\n",
    "        encoded_data = base64.b64encode(data).decode('utf-8')\n",
    "        return encoded_data\n",
    "\n",
    "    @property\n",
    "    def encoded_file(self):\n",
    "        if self._encoded_file is None:\n",
    "            self._encoded_file = self._encode()\n",
    "        return self._encoded_file\n"
   ]
  },
  {
   "cell_type": "code",
   "execution_count": 65,
   "metadata": {},
   "outputs": [
    {
     "data": {
      "text/plain": [
       "b'hewibncejceivnviven'"
      ]
     },
     "execution_count": 65,
     "metadata": {},
     "output_type": "execute_result"
    }
   ],
   "source": [
    "bytess = b\"hewibncejceivnviven\"\n",
    "test = Saver(bytess)\n",
    "test.getvalue()"
   ]
  },
  {
   "cell_type": "code",
   "execution_count": null,
   "metadata": {},
   "outputs": [],
   "source": []
  }
 ],
 "metadata": {
  "kernelspec": {
   "display_name": "science_env",
   "language": "python",
   "name": "python3"
  },
  "language_info": {
   "codemirror_mode": {
    "name": "ipython",
    "version": 3
   },
   "file_extension": ".py",
   "mimetype": "text/x-python",
   "name": "python",
   "nbconvert_exporter": "python",
   "pygments_lexer": "ipython3",
   "version": "3.10.8"
  },
  "orig_nbformat": 4
 },
 "nbformat": 4,
 "nbformat_minor": 2
}
